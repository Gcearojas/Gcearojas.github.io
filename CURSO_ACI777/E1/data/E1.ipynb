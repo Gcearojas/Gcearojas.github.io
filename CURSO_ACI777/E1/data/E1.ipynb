{
 "cells": [
  {
   "cell_type": "markdown",
   "id": "b7947d40",
   "metadata": {},
   "source": [
    "Nombre: Gustavo Cea Rojas fecha: 10 de septiembre \n",
    "\n",
    "Instrucciones\n",
    "A cada alumno se le asignará un conjunto de datos en formato CSV\n",
    "\n",
    "Deberá:\n",
    "\n",
    "Crear una carpeta nueva en su repositorio git con el nombre E1 (0.2 pto)\n",
    "\n",
    "Dentro de E1 crear una carpeta que se llame data. (0.2 pto)\n",
    "\n",
    "Guardar los datos asignados en esa carpeta. (0.2 pto)\n",
    "\n",
    "Dentro de E1 debera crear un Jupyter Notebook llamado E1. (0.2 pto)\n",
    "\n",
    "En el Jupyter Notebook, configurar la primera casilla en Lenguaje Markdown y escribir su nombre, fecha, y esta lista de instrucciones de forma ordenada. (0.2 pts)\n",
    "\n",
    "Importar la libreria csv y matplotlib.pyplot de python para poder procesar y graficar los datos del archivo. Debe separar el código en las casillas que estime conveniente, pero se solicita minimo que en una casilla esten solo las importaciones, en otra solo la lectura de los datos y otra con los plots, además cada casilla debe tener una casilla previa que describa el código en formato markdown. (2 pts)\n",
    "\n",
    "Hacer los gráficos correspondientes al conjunto de datos seleccionado. (1 pts)\n",
    "\n",
    "Utilizar los comandos adecuados de git para actualizar su repositorio y dejarlo disponible en github de forma pública. (1 pts)\n",
    "\n",
    "Crear su perfil web de github siguiendo este tutorial oficial, sino quiere crearlo sobre ud, puede crearlo sobre algun tema de interés. (1 pts)\n",
    "\n",
    "La nota será calculada de la siguiente manera:\n",
    "\n",
    "NOTA FINAL = Puntaje + 1\n",
    "\n",
    "⚠️ Bonus Track, pueden usar la librería seaborn para embellecer sus gráficos de matplotlib. (0.5 pts)\n"
   ]
  },
  {
   "cell_type": "code",
   "execution_count": 195,
   "id": "847b9be0",
   "metadata": {},
   "outputs": [],
   "source": [
    "import csv\n",
    "import matplotlib.pyplot as plt\n",
    "import numpy as np"
   ]
  },
  {
   "cell_type": "code",
   "execution_count": 196,
   "id": "7e10bcac",
   "metadata": {},
   "outputs": [],
   "source": [
    "data={}\n",
    "i=6\n",
    "f=0\n",
    "\n",
    "with open('ResidenciasSanitarias.csv') as archivo_csv:\n",
    "    lector = csv.reader(archivo_csv, delimiter=',')\n",
    "    contador=0;\n",
    "    for row in lector:\n",
    "        if contador==0:\n",
    "            contador=1;\n",
    "            f=f+1\n",
    "        else:\n",
    "            try:\n",
    "                data[row[0]]['fecha']=data[row[i]]\n",
    "                \n",
    "            except KeyError:\n",
    "                data[row[0]]={'fecha'+str(i): 0}\n",
    "                data[row[0]]['fecha'+str(i)]=int(row[i])\n",
    "                \n",
    "           "
   ]
  },
  {
   "cell_type": "code",
   "execution_count": 197,
   "id": "e7faf4bf",
   "metadata": {},
   "outputs": [
    {
     "data": {
      "text/plain": [
       "{'Arica y Parinacota': {'fecha6': 1},\n",
       " 'TarapacÃ¡': {'fecha6': 4},\n",
       " 'Antofagasta': {'fecha6': 3},\n",
       " 'Atacama': {'fecha6': 2},\n",
       " 'Coquimbo': {'fecha6': 6},\n",
       " 'ValparaÃ\\xadso': {'fecha6': 8},\n",
       " 'Metropolitana': {'fecha6': 30},\n",
       " 'Oâ€™Higgins': {'fecha6': 2},\n",
       " 'Maule': {'fecha6': 4},\n",
       " 'Ã‘uble': {'fecha6': 2},\n",
       " 'BiobÃ\\xado': {'fecha6': 9},\n",
       " 'AraucanÃ\\xada': {'fecha6': 3},\n",
       " 'Los RÃ\\xados': {'fecha6': 4},\n",
       " 'Los Lagos': {'fecha6': 6},\n",
       " 'AysÃ©n': {'fecha6': 3},\n",
       " 'Magallanes': {'fecha6': 5}}"
      ]
     },
     "execution_count": 197,
     "metadata": {},
     "output_type": "execute_result"
    }
   ],
   "source": [
    "data"
   ]
  },
  {
   "cell_type": "code",
   "execution_count": null,
   "id": "56c50789",
   "metadata": {},
   "outputs": [],
   "source": []
  },
  {
   "cell_type": "code",
   "execution_count": null,
   "id": "ae57b698",
   "metadata": {},
   "outputs": [],
   "source": []
  },
  {
   "cell_type": "code",
   "execution_count": null,
   "id": "47c24bdd",
   "metadata": {},
   "outputs": [],
   "source": []
  }
 ],
 "metadata": {
  "kernelspec": {
   "display_name": "Python 3",
   "language": "python",
   "name": "python3"
  },
  "language_info": {
   "codemirror_mode": {
    "name": "ipython",
    "version": 3
   },
   "file_extension": ".py",
   "mimetype": "text/x-python",
   "name": "python",
   "nbconvert_exporter": "python",
   "pygments_lexer": "ipython3",
   "version": "3.8.8"
  }
 },
 "nbformat": 4,
 "nbformat_minor": 5
}
